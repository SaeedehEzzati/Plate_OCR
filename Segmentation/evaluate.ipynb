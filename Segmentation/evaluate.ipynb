{
 "cells": [
  {
   "cell_type": "code",
   "execution_count": 1,
   "id": "438835e8",
   "metadata": {},
   "outputs": [
    {
     "name": "stderr",
     "output_type": "stream",
     "text": [
      "C:\\Users\\s.ezati\\Anaconda3\\envs\\CharSeg\\lib\\site-packages\\numpy\\_distributor_init.py:30: UserWarning: loaded more than 1 DLL from .libs:\n",
      "C:\\Users\\s.ezati\\Anaconda3\\envs\\CharSeg\\lib\\site-packages\\numpy\\.libs\\libopenblas64__v0.3.21-gcc_10_3_0.dll\n",
      "C:\\Users\\s.ezati\\Anaconda3\\envs\\CharSeg\\lib\\site-packages\\numpy\\.libs\\libopenblas64__v0.3.23-gcc_10_3_0.dll\n",
      "  warnings.warn(\"loaded more than 1 DLL from .libs:\"\n"
     ]
    }
   ],
   "source": [
    "import torch\n",
    "import cv2\n",
    "from ultralytics import YOLO\n",
    "import matplotlib.pyplot as plt\n",
    "import glob\n",
    "from datetime import datetime\n"
   ]
  },
  {
   "cell_type": "code",
   "execution_count": 2,
   "id": "5a54d28b",
   "metadata": {},
   "outputs": [],
   "source": [
    "image_path = 'test/images/*.jpg'\n"
   ]
  },
  {
   "cell_type": "code",
   "execution_count": 3,
   "id": "8c2ccce5",
   "metadata": {},
   "outputs": [],
   "source": [
    "model = YOLO('character-segmentation-best-yolox.pt')"
   ]
  },
  {
   "cell_type": "code",
   "execution_count": 8,
   "id": "0c54c30a",
   "metadata": {},
   "outputs": [
    {
     "name": "stderr",
     "output_type": "stream",
     "text": [
      "\n",
      "0: 160x640 8 characters, 232.8ms\n",
      "Speed: 2.0ms preprocess, 232.8ms inference, 15.6ms postprocess per image at shape (1, 3, 160, 640)\n",
      "\n",
      "0: 128x640 8 characters, 63.2ms\n",
      "Speed: 1.0ms preprocess, 63.2ms inference, 1.0ms postprocess per image at shape (1, 3, 128, 640)\n",
      "\n",
      "0: 224x640 8 characters, 21.0ms\n",
      "Speed: 1.0ms preprocess, 21.0ms inference, 1.0ms postprocess per image at shape (1, 3, 224, 640)\n",
      "\n",
      "0: 160x640 8 characters, 18.0ms\n",
      "Speed: 1.0ms preprocess, 18.0ms inference, 1.0ms postprocess per image at shape (1, 3, 160, 640)\n",
      "\n",
      "0: 192x640 8 characters, 18.1ms\n",
      "Speed: 0.0ms preprocess, 18.1ms inference, 1.0ms postprocess per image at shape (1, 3, 192, 640)\n",
      "\n",
      "0: 160x640 8 characters, 18.1ms\n",
      "Speed: 1.0ms preprocess, 18.1ms inference, 3.0ms postprocess per image at shape (1, 3, 160, 640)\n",
      "\n",
      "0: 160x640 8 characters, 16.0ms\n",
      "Speed: 1.0ms preprocess, 16.0ms inference, 2.0ms postprocess per image at shape (1, 3, 160, 640)\n",
      "\n",
      "0: 224x640 8 characters, 21.0ms\n",
      "Speed: 0.0ms preprocess, 21.0ms inference, 1.0ms postprocess per image at shape (1, 3, 224, 640)\n",
      "\n",
      "0: 320x640 8 characters, 26.6ms\n",
      "Speed: 1.0ms preprocess, 26.6ms inference, 1.0ms postprocess per image at shape (1, 3, 320, 640)\n",
      "\n",
      "0: 160x640 8 characters, 17.1ms\n",
      "Speed: 1.0ms preprocess, 17.1ms inference, 1.0ms postprocess per image at shape (1, 3, 160, 640)\n",
      "\n",
      "0: 224x640 7 characters, 18.1ms\n",
      "Speed: 1.0ms preprocess, 18.1ms inference, 3.0ms postprocess per image at shape (1, 3, 224, 640)\n",
      "\n",
      "0: 224x640 7 characters, 17.0ms\n",
      "Speed: 1.0ms preprocess, 17.0ms inference, 2.0ms postprocess per image at shape (1, 3, 224, 640)\n",
      "\n",
      "0: 160x640 8 characters, 17.0ms\n",
      "Speed: 1.0ms preprocess, 17.0ms inference, 1.0ms postprocess per image at shape (1, 3, 160, 640)\n",
      "\n",
      "0: 224x640 8 characters, 20.1ms\n",
      "Speed: 1.0ms preprocess, 20.1ms inference, 1.0ms postprocess per image at shape (1, 3, 224, 640)\n",
      "\n",
      "0: 256x640 10 characters, 22.1ms\n",
      "Speed: 1.0ms preprocess, 22.1ms inference, 2.0ms postprocess per image at shape (1, 3, 256, 640)\n",
      "\n",
      "0: 192x640 7 characters, 16.0ms\n",
      "Speed: 1.0ms preprocess, 16.0ms inference, 2.1ms postprocess per image at shape (1, 3, 192, 640)\n",
      "\n",
      "0: 224x640 9 characters, 18.0ms\n",
      "Speed: 1.0ms preprocess, 18.0ms inference, 2.0ms postprocess per image at shape (1, 3, 224, 640)\n",
      "\n",
      "0: 192x640 9 characters, 17.1ms\n",
      "Speed: 1.0ms preprocess, 17.1ms inference, 1.0ms postprocess per image at shape (1, 3, 192, 640)\n",
      "\n",
      "0: 192x640 8 characters, 16.1ms\n",
      "Speed: 0.0ms preprocess, 16.1ms inference, 2.0ms postprocess per image at shape (1, 3, 192, 640)\n",
      "\n",
      "0: 160x640 8 characters, 16.0ms\n",
      "Speed: 1.0ms preprocess, 16.0ms inference, 2.0ms postprocess per image at shape (1, 3, 160, 640)\n",
      "\n",
      "0: 160x640 8 characters, 16.1ms\n",
      "Speed: 1.0ms preprocess, 16.1ms inference, 2.0ms postprocess per image at shape (1, 3, 160, 640)\n",
      "\n",
      "0: 160x640 8 characters, 16.1ms\n",
      "Speed: 1.0ms preprocess, 16.1ms inference, 2.0ms postprocess per image at shape (1, 3, 160, 640)\n",
      "\n",
      "0: 128x640 8 characters, 14.0ms\n",
      "Speed: 1.0ms preprocess, 14.0ms inference, 1.0ms postprocess per image at shape (1, 3, 128, 640)\n",
      "\n",
      "0: 128x640 8 characters, 15.1ms\n",
      "Speed: 0.0ms preprocess, 15.1ms inference, 1.0ms postprocess per image at shape (1, 3, 128, 640)\n",
      "\n",
      "0: 160x640 8 characters, 17.1ms\n",
      "Speed: 0.0ms preprocess, 17.1ms inference, 1.0ms postprocess per image at shape (1, 3, 160, 640)\n",
      "\n",
      "0: 192x640 8 characters, 16.0ms\n",
      "Speed: 1.0ms preprocess, 16.0ms inference, 1.0ms postprocess per image at shape (1, 3, 192, 640)\n",
      "\n",
      "0: 224x640 8 characters, 19.1ms\n",
      "Speed: 1.0ms preprocess, 19.1ms inference, 1.0ms postprocess per image at shape (1, 3, 224, 640)\n",
      "\n",
      "0: 224x640 8 characters, 18.1ms\n",
      "Speed: 1.0ms preprocess, 18.1ms inference, 2.0ms postprocess per image at shape (1, 3, 224, 640)\n",
      "\n",
      "0: 192x640 8 characters, 15.0ms\n",
      "Speed: 1.0ms preprocess, 15.0ms inference, 2.0ms postprocess per image at shape (1, 3, 192, 640)\n",
      "\n",
      "0: 160x640 8 characters, 18.0ms\n",
      "Speed: 1.0ms preprocess, 18.0ms inference, 1.0ms postprocess per image at shape (1, 3, 160, 640)\n",
      "\n",
      "0: 320x640 10 characters, 26.1ms\n",
      "Speed: 1.0ms preprocess, 26.1ms inference, 1.0ms postprocess per image at shape (1, 3, 320, 640)\n",
      "\n",
      "0: 160x640 12 characters, 17.1ms\n",
      "Speed: 1.0ms preprocess, 17.1ms inference, 2.0ms postprocess per image at shape (1, 3, 160, 640)\n",
      "\n",
      "0: 128x640 8 characters, 14.0ms\n",
      "Speed: 1.0ms preprocess, 14.0ms inference, 2.1ms postprocess per image at shape (1, 3, 128, 640)\n",
      "\n",
      "0: 128x640 8 characters, 14.0ms\n",
      "Speed: 1.0ms preprocess, 14.0ms inference, 2.0ms postprocess per image at shape (1, 3, 128, 640)\n",
      "\n",
      "0: 384x640 8 characters, 30.1ms\n",
      "Speed: 0.0ms preprocess, 30.1ms inference, 1.0ms postprocess per image at shape (1, 3, 384, 640)\n",
      "\n",
      "0: 160x640 8 characters, 17.0ms\n",
      "Speed: 1.0ms preprocess, 17.0ms inference, 1.0ms postprocess per image at shape (1, 3, 160, 640)\n",
      "\n",
      "0: 224x640 8 characters, 19.2ms\n",
      "Speed: 1.0ms preprocess, 19.2ms inference, 2.0ms postprocess per image at shape (1, 3, 224, 640)\n",
      "\n",
      "0: 160x640 8 characters, 17.0ms\n",
      "Speed: 1.0ms preprocess, 17.0ms inference, 2.0ms postprocess per image at shape (1, 3, 160, 640)\n",
      "\n",
      "0: 480x640 19 characters, 37.1ms\n",
      "Speed: 2.0ms preprocess, 37.1ms inference, 1.0ms postprocess per image at shape (1, 3, 480, 640)\n",
      "\n",
      "0: 480x640 13 characters, 36.0ms\n",
      "Speed: 2.0ms preprocess, 36.0ms inference, 2.0ms postprocess per image at shape (1, 3, 480, 640)\n"
     ]
    },
    {
     "name": "stdout",
     "output_type": "stream",
     "text": [
      "0:00:01.298711\n"
     ]
    }
   ],
   "source": [
    "start = datetime.now()\n",
    "count = 0\n",
    "for img in glob.glob(image_path):\n",
    "    image = cv2.imread(img)\n",
    "    name = img[55:-4]\n",
    "    res = model.predict(image )[0]\n",
    "    for result in res.boxes.data.tolist():\n",
    "        x1, y1, x2, y2, score, class_id = result\n",
    "        if score > 0.7:\n",
    "            image = cv2.rectangle(image, (int(x1), int(y1)), (int(x2), int(y2)), (0,255,0),2)\n",
    "\n",
    "    cv2.imwrite( f\"test/result/{name}.jpg\",image )\n",
    "    count = count + 1\n",
    "end = datetime.now()\n",
    "print(end- start)"
   ]
  },
  {
   "cell_type": "code",
   "execution_count": 9,
   "id": "281de228",
   "metadata": {},
   "outputs": [
    {
     "name": "stdout",
     "output_type": "stream",
     "text": [
      "0:00:01.298711\n",
      "40\n"
     ]
    }
   ],
   "source": [
    "print(end- start)\n",
    "print (count)"
   ]
  },
  {
   "cell_type": "markdown",
   "id": "89ab998c",
   "metadata": {},
   "source": [
    "0:00:01.298711\n",
    "40"
   ]
  },
  {
   "cell_type": "code",
   "execution_count": null,
   "id": "cea80b96",
   "metadata": {},
   "outputs": [],
   "source": []
  }
 ],
 "metadata": {
  "kernelspec": {
   "display_name": "Python 3 (ipykernel)",
   "language": "python",
   "name": "python3"
  },
  "language_info": {
   "codemirror_mode": {
    "name": "ipython",
    "version": 3
   },
   "file_extension": ".py",
   "mimetype": "text/x-python",
   "name": "python",
   "nbconvert_exporter": "python",
   "pygments_lexer": "ipython3",
   "version": "3.12.2"
  }
 },
 "nbformat": 4,
 "nbformat_minor": 5
}
